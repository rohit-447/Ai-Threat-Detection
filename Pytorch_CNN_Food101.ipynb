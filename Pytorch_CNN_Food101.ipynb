{
  "nbformat": 4,
  "nbformat_minor": 0,
  "metadata": {
    "colab": {
      "provenance": [],
      "authorship_tag": "ABX9TyNsBf4No5ZG8OvdaGwA/e9b",
      "include_colab_link": true
    },
    "kernelspec": {
      "name": "python3",
      "display_name": "Python 3"
    },
    "language_info": {
      "name": "python"
    }
  },
  "cells": [
    {
      "cell_type": "markdown",
      "metadata": {
        "id": "view-in-github",
        "colab_type": "text"
      },
      "source": [
        "<a href=\"https://colab.research.google.com/github/rohit-447/Ai-Threat-Detection/blob/main/Pytorch_CNN_Food101.ipynb\" target=\"_parent\"><img src=\"https://colab.research.google.com/assets/colab-badge.svg\" alt=\"Open In Colab\"/></a>"
      ]
    },
    {
      "cell_type": "markdown",
      "source": [
        "Working on Food101 Dataset as Custom Dataset\n"
      ],
      "metadata": {
        "id": "DwZkRwhHPTAM"
      }
    },
    {
      "cell_type": "code",
      "execution_count": null,
      "metadata": {
        "id": "nSxLEdcFBUe5"
      },
      "outputs": [],
      "source": [
        "#@title Import of modules\n",
        "import torch\n",
        "from torch import nn\n",
        "import torchvision\n",
        "from torch.utils.data import DataLoader\n",
        "from torchvision.datasets import Food101\n",
        "import matplotlib.pyplot as plt\n",
        "from pathlib import Path"
      ]
    },
    {
      "cell_type": "code",
      "source": [
        "#@title Download of DataSet\n",
        "FOOD101=Food101(root='data', download=True)"
      ],
      "metadata": {
        "id": "35xbW_11a5At"
      },
      "execution_count": null,
      "outputs": []
    }
  ]
}